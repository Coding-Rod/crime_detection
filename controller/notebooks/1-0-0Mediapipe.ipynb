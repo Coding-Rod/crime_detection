{
  "cells": [
    {
      "cell_type": "markdown",
      "metadata": {
        "id": "ktne8MvH63ul"
      },
      "source": [
        "# Mediapipe"
      ]
    },
    {
      "cell_type": "markdown",
      "metadata": {
        "id": "mI4dfZ4C68sH"
      },
      "source": [
        "## Install and Import Dependencies"
      ]
    },
    {
      "cell_type": "code",
      "execution_count": null,
      "metadata": {
        "colab": {
          "base_uri": "https://localhost:8080/"
        },
        "id": "EwdkgHhl60NG",
        "outputId": "b86e86c4-243e-47f7-a13f-9898bfe5528b"
      },
      "outputs": [
        {
          "name": "stdout",
          "output_type": "stream",
          "text": [
            "Looking in indexes: https://pypi.org/simple, https://us-python.pkg.dev/colab-wheels/public/simple/\n",
            "Collecting mediapipe\n",
            "  Downloading mediapipe-0.8.10-cp37-cp37m-manylinux_2_17_x86_64.manylinux2014_x86_64.whl (32.8 MB)\n",
            "\u001b[K     |████████████████████████████████| 32.8 MB 1.3 MB/s \n",
            "\u001b[?25hRequirement already satisfied: opencv-python in /usr/local/lib/python3.7/dist-packages (4.1.2.30)\n",
            "Requirement already satisfied: matplotlib in /usr/local/lib/python3.7/dist-packages (from mediapipe) (3.2.2)\n",
            "Requirement already satisfied: opencv-contrib-python in /usr/local/lib/python3.7/dist-packages (from mediapipe) (4.1.2.30)\n",
            "Requirement already satisfied: numpy in /usr/local/lib/python3.7/dist-packages (from mediapipe) (1.21.6)\n",
            "Requirement already satisfied: absl-py in /usr/local/lib/python3.7/dist-packages (from mediapipe) (1.0.0)\n",
            "Requirement already satisfied: protobuf>=3.11.4 in /usr/local/lib/python3.7/dist-packages (from mediapipe) (3.17.3)\n",
            "Requirement already satisfied: attrs>=19.1.0 in /usr/local/lib/python3.7/dist-packages (from mediapipe) (21.4.0)\n",
            "Requirement already satisfied: six>=1.9 in /usr/local/lib/python3.7/dist-packages (from protobuf>=3.11.4->mediapipe) (1.15.0)\n",
            "Requirement already satisfied: pyparsing!=2.0.4,!=2.1.2,!=2.1.6,>=2.0.1 in /usr/local/lib/python3.7/dist-packages (from matplotlib->mediapipe) (3.0.9)\n",
            "Requirement already satisfied: kiwisolver>=1.0.1 in /usr/local/lib/python3.7/dist-packages (from matplotlib->mediapipe) (1.4.2)\n",
            "Requirement already satisfied: cycler>=0.10 in /usr/local/lib/python3.7/dist-packages (from matplotlib->mediapipe) (0.11.0)\n",
            "Requirement already satisfied: python-dateutil>=2.1 in /usr/local/lib/python3.7/dist-packages (from matplotlib->mediapipe) (2.8.2)\n",
            "Requirement already satisfied: typing-extensions in /usr/local/lib/python3.7/dist-packages (from kiwisolver>=1.0.1->matplotlib->mediapipe) (4.2.0)\n",
            "Installing collected packages: mediapipe\n",
            "Successfully installed mediapipe-0.8.10\n"
          ]
        }
      ],
      "source": [
        "!pip install mediapipe opencv-python"
      ]
    },
    {
      "cell_type": "code",
      "execution_count": null,
      "metadata": {
        "id": "K8JL7Jfa7nZ7"
      },
      "outputs": [],
      "source": [
        "import mediapipe as mp\n",
        "import cv2\n",
        "import numpy as np\n",
        "import uuid\n",
        "import os"
      ]
    },
    {
      "cell_type": "code",
      "execution_count": null,
      "metadata": {
        "id": "YV7iJLyC8FKr"
      },
      "outputs": [],
      "source": [
        "mp_drawing = mp.solutions.drawing_utils\n",
        "mp_hands  = mp.solutions.hands"
      ]
    },
    {
      "cell_type": "code",
      "execution_count": null,
      "metadata": {
        "colab": {
          "background_save": true,
          "base_uri": "https://localhost:8080/",
          "height": 1000
        },
        "id": "vpojlaDR8gCY",
        "outputId": "2b8aff08-3263-4a57-9510-0dca43b45134"
      },
      "outputs": [],
      "source": [
        "from google.colab.patches import cv2_imshow\n",
        "\n",
        "cap = cv2.VideoCapture(\"video1.webm\")\n",
        "results = []\n",
        "\n",
        "with mp_hands.Hands(min_detection_confidence=0.8, min_tracking_confidence=0.5) as hands:\n",
        "    while cap.isOpened():\n",
        "        ret, frame = cap.read()\n",
        "\n",
        "        try:\n",
        "            # BGR 2 RGB\n",
        "            img = cv2.cvtColor(frame, cv2.COLOR_BGR2RGB)\n",
        "\n",
        "            # Set flag\n",
        "            img.flags.writeable = False\n",
        "            \n",
        "            # Detections\n",
        "            results = hands.process(img)\n",
        "\n",
        "            # Set flag to true\n",
        "            img.flags.writeable = True\n",
        "\n",
        "            # RGB 2 BGR\n",
        "            img = cv2.cvtColor(frame, cv2.COLOR_RGB2BGR)\n",
        "\n",
        "            # Detections\n",
        "            print(results)\n",
        "\n",
        "            #Rendering results\n",
        "            if results.multi_hand_landmarks:\n",
        "                for num,hand in enumerate(results.multi_hand_landmarks):\n",
        "                    mp_drawing.draw_landmarks(img,hand,mp hands.HAND_CONNECTIONS,\n",
        "                                            mp_drawing.DrawingSpec(colors(121,22,76),thickness=2,circle_radius=4),\n",
        "                                            mp_drawing.Drawingspec(color=(250,44,250),thickness=2,circle_radius=2),\n",
        "                    )\n",
        "                \n",
        "                try:\n",
        "                    cv2_imshow(img)\n",
        "                except:\n",
        "                    break\n",
        "        except:\n",
        "            pass\n",
        "\n",
        "cap.release()\n",
        "cv2.destroyAllWindows()"
      ]
    },
    {
      "cell_type": "code",
      "execution_count": null,
      "metadata": {
        "colab": {
          "background_save": true
        },
        "id": "vETAyZPK-BLB",
        "outputId": "d6f3a4a4-4099-4059-9d98-683ccbfb22cd"
      },
      "outputs": [
        {
          "data": {
            "text/plain": [
              "[landmark {\n",
              "   x: 0.48365873098373413\n",
              "   y: 0.7880222201347351\n",
              "   z: 5.268828999760444e-07\n",
              " }\n",
              " landmark {\n",
              "   x: 0.566178560256958\n",
              "   y: 0.7303038239479065\n",
              "   z: -0.03551710769534111\n",
              " }\n",
              " landmark {\n",
              "   x: 0.6235802173614502\n",
              "   y: 0.6393126845359802\n",
              "   z: -0.051541149616241455\n",
              " }\n",
              " landmark {\n",
              "   x: 0.6514012217521667\n",
              "   y: 0.5513361096382141\n",
              "   z: -0.0660523921251297\n",
              " }\n",
              " landmark {\n",
              "   x: 0.6774131059646606\n",
              "   y: 0.4795530140399933\n",
              "   z: -0.08001228421926498\n",
              " }\n",
              " landmark {\n",
              "   x: 0.5328727960586548\n",
              "   y: 0.48610684275627136\n",
              "   z: -0.02224981226027012\n",
              " }\n",
              " landmark {\n",
              "   x: 0.5404472351074219\n",
              "   y: 0.36917954683303833\n",
              "   z: -0.045431505888700485\n",
              " }\n",
              " landmark {\n",
              "   x: 0.5443429946899414\n",
              "   y: 0.2985461354255676\n",
              "   z: -0.06504009664058685\n",
              " }\n",
              " landmark {\n",
              "   x: 0.5485087037086487\n",
              "   y: 0.2392498254776001\n",
              "   z: -0.07872029393911362\n",
              " }\n",
              " landmark {\n",
              "   x: 0.4753841161727905\n",
              "   y: 0.481534481048584\n",
              "   z: -0.02256876416504383\n",
              " }\n",
              " landmark {\n",
              "   x: 0.4566931426525116\n",
              "   y: 0.3549532890319824\n",
              "   z: -0.04129508510231972\n",
              " }\n",
              " landmark {\n",
              "   x: 0.4495110511779785\n",
              "   y: 0.27962177991867065\n",
              "   z: -0.058454420417547226\n",
              " }\n",
              " landmark {\n",
              "   x: 0.4455314874649048\n",
              "   y: 0.21997293829917908\n",
              "   z: -0.07070307433605194\n",
              " }\n",
              " landmark {\n",
              "   x: 0.42791223526000977\n",
              "   y: 0.5026305913925171\n",
              "   z: -0.02820545621216297\n",
              " }\n",
              " landmark {\n",
              "   x: 0.39664071798324585\n",
              "   y: 0.38982534408569336\n",
              "   z: -0.04846397414803505\n",
              " }\n",
              " landmark {\n",
              "   x: 0.383871465921402\n",
              "   y: 0.31737029552459717\n",
              "   z: -0.06207980215549469\n",
              " }\n",
              " landmark {\n",
              "   x: 0.3783138394355774\n",
              "   y: 0.25670865178108215\n",
              "   z: -0.07101616263389587\n",
              " }\n",
              " landmark {\n",
              "   x: 0.38842129707336426\n",
              "   y: 0.546561062335968\n",
              "   z: -0.03762832656502724\n",
              " }\n",
              " landmark {\n",
              "   x: 0.34450212121009827\n",
              "   y: 0.46785032749176025\n",
              "   z: -0.05767396464943886\n",
              " }\n",
              " landmark {\n",
              "   x: 0.3227725028991699\n",
              "   y: 0.41176486015319824\n",
              "   z: -0.06600712239742279\n",
              " }\n",
              " landmark {\n",
              "   x: 0.30975639820098877\n",
              "   y: 0.3582753539085388\n",
              "   z: -0.07002292573451996\n",
              " }]"
            ]
          },
          "execution_count": null,
          "metadata": {},
          "output_type": "execute_result"
        }
      ],
      "source": [
        "results.multi_hand_landmarks"
      ]
    },
    {
      "cell_type": "markdown",
      "metadata": {
        "id": "2arbZlHR7UIL"
      },
      "source": [
        "## Draw Hands"
      ]
    },
    {
      "cell_type": "markdown",
      "metadata": {
        "id": "_3YpQzka7Xhp"
      },
      "source": [
        "## Output Images"
      ]
    }
  ],
  "metadata": {
    "accelerator": "GPU",
    "colab": {
      "machine_shape": "hm",
      "name": "Mediapipe.ipynb",
      "provenance": [],
      "collapsed_sections": [],
      "background_execution": "on"
    },
    "kernelspec": {
      "display_name": "Python 3",
      "name": "python3"
    },
    "language_info": {
      "name": "python"
    }
  },
  "nbformat": 4,
  "nbformat_minor": 0
}