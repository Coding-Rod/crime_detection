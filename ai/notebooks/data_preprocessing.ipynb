{
 "cells": [
  {
   "cell_type": "markdown",
   "metadata": {},
   "source": [
    "# Data Preprocessing"
   ]
  },
  {
   "attachments": {},
   "cell_type": "markdown",
   "metadata": {},
   "source": [
    "## Move some images"
   ]
  },
  {
   "attachments": {},
   "cell_type": "markdown",
   "metadata": {},
   "source": [
    "### Guns"
   ]
  },
  {
   "cell_type": "code",
   "execution_count": 3,
   "metadata": {},
   "outputs": [],
   "source": [
    "import os\n",
    "import random\n",
    "import shutil\n",
    "\n",
    "# define input and output directories\n",
    "input_dir = '/media/rodri/Files/Datasets/Final_Dataset/guns/train'\n",
    "output_dir = '/media/rodri/Files/Datasets/Final_Dataset/guns/output'\n",
    "\n",
    "# define number of images to select and move\n",
    "num_images = 1300\n",
    "\n",
    "# create output directory if it doesn't exist\n",
    "if not os.path.exists(output_dir):\n",
    "    os.mkdir(output_dir)\n",
    "\n",
    "# get list of all image files in input directory\n",
    "image_files = [filename for filename in os.listdir(input_dir) if filename.endswith('.jpg')]\n",
    "\n",
    "# randomly select `num_images` image files\n",
    "selected_images = random.sample(image_files, num_images)\n",
    "\n",
    "# iterate over selected images, move them to output directory and find the corresponding annotations\n",
    "for filename in selected_images:\n",
    "    # move image file to output directory\n",
    "    src_path = os.path.join(input_dir, filename)\n",
    "    dst_path = os.path.join(output_dir, filename)\n",
    "    shutil.move(src_path, dst_path)\n",
    "\n",
    "    # find corresponding annotation file\n",
    "    annotation_filename = filename.replace('.jpg', '.xml')\n",
    "    annotation_src_path = os.path.join(input_dir, annotation_filename)\n",
    "    annotation_dst_path = os.path.join(output_dir, annotation_filename)\n",
    "\n",
    "    # move annotation file to output directory\n",
    "    shutil.move(annotation_src_path, annotation_dst_path)\n"
   ]
  },
  {
   "attachments": {},
   "cell_type": "markdown",
   "metadata": {},
   "source": [
    "### Knives"
   ]
  },
  {
   "cell_type": "code",
   "execution_count": 2,
   "metadata": {},
   "outputs": [],
   "source": [
    "import os\n",
    "import random\n",
    "import shutil\n",
    "\n",
    "# define input and output directories\n",
    "input_dir = '/media/rodri/Files/Datasets/Final_Dataset/knives/train'\n",
    "output_dir = '/media/rodri/Files/Datasets/Final_Dataset/knives/output'\n",
    "\n",
    "# define number of images to select and move\n",
    "num_images = 1540\n",
    "\n",
    "# create output directory if it doesn't exist\n",
    "if not os.path.exists(output_dir):\n",
    "    os.mkdir(output_dir)\n",
    "\n",
    "# get list of all image files in input directory\n",
    "image_files = [filename for filename in os.listdir(input_dir) if filename.endswith('.jpg')]\n",
    "\n",
    "# randomly select `num_images` image files\n",
    "selected_images = random.sample(image_files, num_images)\n",
    "\n",
    "# iterate over selected images, move them to output directory and find the corresponding annotations\n",
    "for filename in selected_images:\n",
    "    # move image file to output directory\n",
    "    src_path = os.path.join(input_dir, filename)\n",
    "    dst_path = os.path.join(output_dir, filename)\n",
    "    shutil.move(src_path, dst_path)\n",
    "\n",
    "    # find corresponding annotation file\n",
    "    annotation_filename = filename.replace('.jpg', '.xml')\n",
    "    annotation_src_path = os.path.join(input_dir, annotation_filename)\n",
    "    annotation_dst_path = os.path.join(output_dir, annotation_filename)\n",
    "\n",
    "    # move annotation file to output directory\n",
    "    shutil.move(annotation_src_path, annotation_dst_path)\n"
   ]
  },
  {
   "attachments": {},
   "cell_type": "markdown",
   "metadata": {},
   "source": [
    "## Split data into folders"
   ]
  },
  {
   "attachments": {},
   "cell_type": "markdown",
   "metadata": {},
   "source": [
    "### Guns"
   ]
  },
  {
   "cell_type": "code",
   "execution_count": 4,
   "metadata": {},
   "outputs": [
    {
     "name": "stderr",
     "output_type": "stream",
     "text": [
      "325it [00:56,  5.74it/s]\n"
     ]
    }
   ],
   "source": [
    "import os\n",
    "import shutil\n",
    "from tqdm import tqdm\n",
    "\n",
    "input_dir = '/media/rodri/Files/Datasets/Final_Dataset/guns/output'\n",
    "output_dir = '/media/rodri/Files/Datasets/Final_Dataset/guns/output2'\n",
    "batch_size = 4\n",
    "\n",
    "# create the output directory if it doesn't exist\n",
    "if not os.path.exists(output_dir):\n",
    "    os.mkdir(output_dir)\n",
    "\n",
    "# define a generator that yields batches of files\n",
    "def batch_generator(file_list, batch_size):\n",
    "    for i in range(0, len(file_list), batch_size):\n",
    "        yield file_list[i:i+batch_size]\n",
    "\n",
    "# get a list of all image files in the input directory\n",
    "image_files = [filename for filename in os.listdir(input_dir) if filename.endswith('.jpg')]\n",
    "\n",
    "# use the batch generator to iterate over batches of files\n",
    "for i, file_batch in enumerate(tqdm(batch_generator(image_files, batch_size))):\n",
    "    # create a new folder for the batch\n",
    "    batch_dir = os.path.join(output_dir, f'batch_{i}')\n",
    "    os.mkdir(batch_dir)\n",
    "\n",
    "    # iterate over the image files in the batch\n",
    "    for filename in file_batch:\n",
    "        # copy the image file to the batch directory\n",
    "        src_path = os.path.join(input_dir, filename)\n",
    "        dst_path = os.path.join(batch_dir, filename)\n",
    "        shutil.copy(src_path, dst_path)\n",
    "\n",
    "        # find the corresponding annotation file\n",
    "        annotation_filename = filename.replace('.jpg', '.xml')\n",
    "        annotation_src_path = os.path.join(input_dir, annotation_filename)\n",
    "        annotation_dst_path = os.path.join(batch_dir, annotation_filename)\n",
    "\n",
    "        # copy the annotation file to the batch directory\n",
    "        shutil.copy(annotation_src_path, annotation_dst_path)"
   ]
  },
  {
   "attachments": {},
   "cell_type": "markdown",
   "metadata": {},
   "source": [
    "### Knives"
   ]
  },
  {
   "cell_type": "code",
   "execution_count": 5,
   "metadata": {},
   "outputs": [
    {
     "name": "stderr",
     "output_type": "stream",
     "text": [
      "385it [01:10,  5.50it/s]\n"
     ]
    }
   ],
   "source": [
    "import os\n",
    "import shutil\n",
    "from tqdm import tqdm\n",
    "\n",
    "input_dir = '/media/rodri/Files/Datasets/Final_Dataset/knives/output'\n",
    "output_dir = '/media/rodri/Files/Datasets/Final_Dataset/knives/output2'\n",
    "batch_size = 4\n",
    "\n",
    "# create the output directory if it doesn't exist\n",
    "if not os.path.exists(output_dir):\n",
    "    os.mkdir(output_dir)\n",
    "\n",
    "# define a generator that yields batches of files\n",
    "def batch_generator(file_list, batch_size):\n",
    "    for i in range(0, len(file_list), batch_size):\n",
    "        yield file_list[i:i+batch_size]\n",
    "\n",
    "# get a list of all image files in the input directory\n",
    "image_files = [filename for filename in os.listdir(input_dir) if filename.endswith('.jpg')]\n",
    "\n",
    "# use the batch generator to iterate over batches of files\n",
    "for i, file_batch in enumerate(tqdm(batch_generator(image_files, batch_size))):\n",
    "    # create a new folder for the batch\n",
    "    batch_dir = os.path.join(output_dir, f'batch_{i}')\n",
    "    os.mkdir(batch_dir)\n",
    "\n",
    "    # iterate over the image files in the batch\n",
    "    for filename in file_batch:\n",
    "        # copy the image file to the batch directory\n",
    "        src_path = os.path.join(input_dir, filename)\n",
    "        dst_path = os.path.join(batch_dir, filename)\n",
    "        shutil.copy(src_path, dst_path)\n",
    "\n",
    "        # find the corresponding annotation file\n",
    "        annotation_filename = filename.replace('.jpg', '.xml')\n",
    "        annotation_src_path = os.path.join(input_dir, annotation_filename)\n",
    "        annotation_dst_path = os.path.join(batch_dir, annotation_filename)\n",
    "\n",
    "        # copy the annotation file to the batch directory\n",
    "        shutil.copy(annotation_src_path, annotation_dst_path)"
   ]
  },
  {
   "attachments": {},
   "cell_type": "markdown",
   "metadata": {},
   "source": [
    "## Merge images"
   ]
  },
  {
   "attachments": {},
   "cell_type": "markdown",
   "metadata": {},
   "source": [
    "### Guns"
   ]
  },
  {
   "cell_type": "code",
   "execution_count": 15,
   "metadata": {},
   "outputs": [
    {
     "name": "stderr",
     "output_type": "stream",
     "text": [
      "100%|██████████| 325/325 [00:37<00:00,  8.75it/s]\n"
     ]
    }
   ],
   "source": [
    "import cv2\n",
    "import os\n",
    "import xml.etree.ElementTree as ET\n",
    "from tqdm import tqdm\n",
    "import numpy as np\n",
    "\n",
    "input_dir = \"/media/rodri/Files/Datasets/Final_Dataset/guns/output2\"\n",
    "output_dir = \"/media/rodri/Files/Datasets/Final_Dataset/guns/output3\"\n",
    "size = 640\n",
    "\n",
    "def merge_images(folder_path, output_path):\n",
    "    # create a black merged image\n",
    "    merged_image = 255 * np.ones(shape=[size, size, 3], dtype=np.uint8)\n",
    "    x_offset = 0\n",
    "    y_offset = 0\n",
    "    idx = 0\n",
    "    # loop over the files in the folder\n",
    "    for file_name in os.listdir(folder_path):\n",
    "        if file_name.endswith(\".jpg\"):\n",
    "            # load the image and resize it\n",
    "            image_path = os.path.join(folder_path, file_name)\n",
    "            image = cv2.imread(image_path)\n",
    "            resized_image = cv2.resize(image, (int(size/2), int(size/2)))\n",
    "            \n",
    "            # place the resized image on the merged image\n",
    "            merged_image[y_offset:y_offset+int(size/2), x_offset:x_offset+int(size/2)] = resized_image\n",
    "            \n",
    "            # update the x_offset and y_offset\n",
    "            x_offset += int(size/2)\n",
    "            if x_offset == size:\n",
    "                x_offset = 0\n",
    "                y_offset += int(size/2)\n",
    "                \n",
    "        elif file_name.endswith(\".xml\"):\n",
    "            # load the annotation and update the coordinates\n",
    "            annotation_path = os.path.join(folder_path, file_name)\n",
    "            annotation = ET.parse(annotation_path).getroot()\n",
    "            \n",
    "            match idx:\n",
    "                case 0:\n",
    "                    x_offset = 0\n",
    "                    y_offset = 0\n",
    "                case 1:\n",
    "                    x_offset = int(size/2)\n",
    "                    y_offset = 0\n",
    "                case 2:\n",
    "                    x_offset = 0\n",
    "                    y_offset = int(size/2)\n",
    "                case 3:\n",
    "                    x_offset = int(size/2)\n",
    "                    y_offset = int(size/2)\n",
    "            \n",
    "            # update the annotation coordinates to match the resized image's position on the merged image\n",
    "            for obj in annotation.findall('object'):\n",
    "                bndbox = obj.find('bndbox')\n",
    "                xmin = int(bndbox.find('xmin').text) if int(bndbox.find('xmin').text) < int(bndbox.find('xmax').text) else int(bndbox.find('xmax').text)\n",
    "                ymin = int(bndbox.find('ymin').text) if int(bndbox.find('ymin').text) < int(bndbox.find('ymax').text) else int(bndbox.find('ymax').text)\n",
    "                xmax = int(bndbox.find('xmax').text) if int(bndbox.find('xmax').text) > int(bndbox.find('xmin').text) else int(bndbox.find('xmin').text)\n",
    "                ymax = int(bndbox.find('ymax').text) if int(bndbox.find('ymax').text) > int(bndbox.find('ymin').text) else int(bndbox.find('ymin').text)\n",
    "                bndbox.find('xmin').text = str(int(xmin/2)+x_offset)\n",
    "                bndbox.find('ymin').text = str(int(ymin/2)+y_offset)\n",
    "                bndbox.find('xmax').text = str(int(xmax/2)+x_offset)\n",
    "                bndbox.find('ymax').text = str(int(ymax/2)+y_offset)\n",
    "            idx += 1\n",
    "            \n",
    "    # save the merged image and annotation\n",
    "    output_image_path = os.path.join(output_path, folder_path.split(\"/\")[-1]+\".jpg\")\n",
    "    output_annotation_path = os.path.join(output_path, folder_path.split(\"/\")[-1]+\".xml\")\n",
    "    cv2.imwrite(output_image_path, merged_image)\n",
    "    ET.ElementTree(annotation).write(output_annotation_path)\n",
    "\n",
    "# create the output directory if it doesn't exist\n",
    "if not os.path.exists(output_dir):\n",
    "    os.makedirs(output_dir)\n",
    "\n",
    "# use a generator to iterate over the folders in the directory and call the merge_images function for each folder\n",
    "for folder_path in tqdm(os.listdir(input_dir)):\n",
    "    folder_path = os.path.join(input_dir, folder_path)\n",
    "    if os.path.isdir(folder_path):\n",
    "        # merge the images in the folder\n",
    "        merge_images(folder_path, output_dir)\n"
   ]
  },
  {
   "cell_type": "code",
   "execution_count": null,
   "metadata": {},
   "outputs": [],
   "source": []
  },
  {
   "attachments": {},
   "cell_type": "markdown",
   "metadata": {},
   "source": [
    "### Knives"
   ]
  },
  {
   "cell_type": "code",
   "execution_count": 19,
   "metadata": {},
   "outputs": [
    {
     "name": "stderr",
     "output_type": "stream",
     "text": [
      " 91%|█████████ | 349/385 [00:29<00:03, 11.75it/s]\n"
     ]
    },
    {
     "ename": "KeyboardInterrupt",
     "evalue": "",
     "output_type": "error",
     "traceback": [
      "\u001b[0;31m---------------------------------------------------------------------------\u001b[0m",
      "\u001b[0;31mKeyboardInterrupt\u001b[0m                         Traceback (most recent call last)",
      "Cell \u001b[0;32mIn[19], line 83\u001b[0m\n\u001b[1;32m     80\u001b[0m folder_path \u001b[39m=\u001b[39m os\u001b[39m.\u001b[39mpath\u001b[39m.\u001b[39mjoin(input_dir, folder_path)\n\u001b[1;32m     81\u001b[0m \u001b[39mif\u001b[39;00m os\u001b[39m.\u001b[39mpath\u001b[39m.\u001b[39misdir(folder_path):\n\u001b[1;32m     82\u001b[0m     \u001b[39m# merge the images in the folder\u001b[39;00m\n\u001b[0;32m---> 83\u001b[0m     merge_images(folder_path, output_dir)\n",
      "Cell \u001b[0;32mIn[19], line 71\u001b[0m, in \u001b[0;36mmerge_images\u001b[0;34m(folder_path, output_path)\u001b[0m\n\u001b[1;32m     69\u001b[0m output_image_path \u001b[39m=\u001b[39m os\u001b[39m.\u001b[39mpath\u001b[39m.\u001b[39mjoin(output_path, folder_path\u001b[39m.\u001b[39msplit(\u001b[39m\"\u001b[39m\u001b[39m/\u001b[39m\u001b[39m\"\u001b[39m)[\u001b[39m-\u001b[39m\u001b[39m1\u001b[39m]\u001b[39m+\u001b[39m\u001b[39m\"\u001b[39m\u001b[39m.jpg\u001b[39m\u001b[39m\"\u001b[39m)\n\u001b[1;32m     70\u001b[0m output_annotation_path \u001b[39m=\u001b[39m os\u001b[39m.\u001b[39mpath\u001b[39m.\u001b[39mjoin(output_path, folder_path\u001b[39m.\u001b[39msplit(\u001b[39m\"\u001b[39m\u001b[39m/\u001b[39m\u001b[39m\"\u001b[39m)[\u001b[39m-\u001b[39m\u001b[39m1\u001b[39m]\u001b[39m+\u001b[39m\u001b[39m\"\u001b[39m\u001b[39m.xml\u001b[39m\u001b[39m\"\u001b[39m)\n\u001b[0;32m---> 71\u001b[0m cv2\u001b[39m.\u001b[39;49mimwrite(output_image_path, merged_image)\n\u001b[1;32m     72\u001b[0m ET\u001b[39m.\u001b[39mElementTree(annotation)\u001b[39m.\u001b[39mwrite(output_annotation_path)\n",
      "\u001b[0;31mKeyboardInterrupt\u001b[0m: "
     ]
    }
   ],
   "source": [
    "import cv2\n",
    "import os\n",
    "import xml.etree.ElementTree as ET\n",
    "from tqdm import tqdm\n",
    "import numpy as np\n",
    "\n",
    "input_dir = \"/media/rodri/Files/Datasets/Final_Dataset/knives/output2\"\n",
    "output_dir = \"/media/rodri/Files/Datasets/Final_Dataset/knives/output3\"\n",
    "size = 640\n",
    "\n",
    "def merge_images(folder_path, output_path):\n",
    "    # create a black merged image\n",
    "    merged_image = 255 * np.ones(shape=[size, size, 3], dtype=np.uint8)\n",
    "    x_offset = 0\n",
    "    y_offset = 0\n",
    "    \n",
    "    # loop over the files in the folder\n",
    "    for file_name in os.listdir(folder_path):\n",
    "        if file_name.endswith(\".jpg\"):\n",
    "            # load the image and resize it\n",
    "            image_path = os.path.join(folder_path, file_name)\n",
    "            image = cv2.imread(image_path)\n",
    "            resized_image = cv2.resize(image, (int(size/2), int(size/2)))\n",
    "            \n",
    "            # place the resized image on the merged image\n",
    "            merged_image[y_offset:y_offset+int(size/2), x_offset:x_offset+int(size/2)] = resized_image\n",
    "            \n",
    "            # update the x_offset and y_offset\n",
    "            x_offset += int(size/2)\n",
    "            if x_offset == size:\n",
    "                x_offset = 0\n",
    "                y_offset += int(size/2)\n",
    "                \n",
    "        elif file_name.endswith(\".xml\"):\n",
    "            # load the annotation and update the coordinates\n",
    "            annotation_path = os.path.join(folder_path, file_name)\n",
    "            annotation = ET.parse(annotation_path).getroot()\n",
    "            \n",
    "            # update the annotation coordinates to match the resized image's position on the merged image\n",
    "            for obj in annotation.findall('object'):\n",
    "                bndbox = obj.find('bndbox')\n",
    "                xmin = int(bndbox.find('xmin').text) if int(bndbox.find('xmin').text) < int(bndbox.find('xmax').text) else int(bndbox.find('xmax').text)\n",
    "                ymin = int(bndbox.find('ymin').text) if int(bndbox.find('ymin').text) < int(bndbox.find('ymax').text) else int(bndbox.find('ymax').text)\n",
    "                xmax = int(bndbox.find('xmax').text) if int(bndbox.find('xmax').text) > int(bndbox.find('xmin').text) else int(bndbox.find('xmin').text)\n",
    "                ymax = int(bndbox.find('ymax').text) if int(bndbox.find('ymax').text) > int(bndbox.find('ymin').text) else int(bndbox.find('ymin').text)\n",
    "                bndbox.find('xmin').text = str(int(xmin/2)+x_offset)\n",
    "                bndbox.find('ymin').text = str(int(ymin/2)+y_offset)\n",
    "                bndbox.find('xmax').text = str(int(xmax/2)+x_offset)\n",
    "                bndbox.find('ymax').text = str(int(ymax/2)+y_offset)\n",
    "            \n",
    "    # save the merged image and annotation\n",
    "    output_image_path = os.path.join(output_path, folder_path.split(\"/\")[-1]+\".jpg\")\n",
    "    output_annotation_path = os.path.join(output_path, folder_path.split(\"/\")[-1]+\".xml\")\n",
    "    cv2.imwrite(output_image_path, merged_image)\n",
    "    ET.ElementTree(annotation).write(output_annotation_path)\n",
    "\n",
    "# create the output directory if it doesn't exist\n",
    "if not os.path.exists(output_dir):\n",
    "    os.makedirs(output_dir)\n",
    "\n",
    "# use a generator to iterate over the folders in the directory and call the merge_images function for each folder\n",
    "for folder_path in tqdm(os.listdir(input_dir)):\n",
    "    folder_path = os.path.join(input_dir, folder_path)\n",
    "    if os.path.isdir(folder_path):\n",
    "        # merge the images in the folder\n",
    "        merge_images(folder_path, output_dir)\n"
   ]
  },
  {
   "attachments": {},
   "cell_type": "markdown",
   "metadata": {},
   "source": [
    "## Merge results and clean"
   ]
  },
  {
   "cell_type": "code",
   "execution_count": null,
   "metadata": {},
   "outputs": [],
   "source": []
  }
 ],
 "metadata": {
  "kernelspec": {
   "display_name": "Python 3 (ipykernel)",
   "language": "python",
   "name": "python3"
  },
  "language_info": {
   "codemirror_mode": {
    "name": "ipython",
    "version": 3
   },
   "file_extension": ".py",
   "mimetype": "text/x-python",
   "name": "python",
   "nbconvert_exporter": "python",
   "pygments_lexer": "ipython3",
   "version": "3.10.10"
  }
 },
 "nbformat": 4,
 "nbformat_minor": 2
}
