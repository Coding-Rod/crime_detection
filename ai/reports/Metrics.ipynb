{
  "nbformat": 4,
  "nbformat_minor": 0,
  "metadata": {
    "colab": {
      "provenance": []
    },
    "kernelspec": {
      "name": "python3",
      "display_name": "Python 3"
    },
    "language_info": {
      "name": "python"
    },
    "gpuClass": "standard"
  },
  "cells": [
    {
      "cell_type": "markdown",
      "source": [
        "# Metrics"
      ],
      "metadata": {
        "id": "1oHXfD3gO8fE"
      }
    },
    {
      "cell_type": "markdown",
      "source": [
        "## Downloads and instalation"
      ],
      "metadata": {
        "id": "yRgwJCnOSIBt"
      }
    },
    {
      "cell_type": "code",
      "source": [
        "!pip install opencv-python==4.5.4.58\n",
        "!pip install roboflow"
      ],
      "metadata": {
        "colab": {
          "base_uri": "https://localhost:8080/",
          "height": 1000
        },
        "id": "YWNE_GjOQTzI",
        "outputId": "d82f74ed-1b0c-46ff-ac6f-a41a9e41fc68"
      },
      "execution_count": 1,
      "outputs": [
        {
          "output_type": "stream",
          "name": "stdout",
          "text": [
            "Looking in indexes: https://pypi.org/simple, https://us-python.pkg.dev/colab-wheels/public/simple/\n",
            "Collecting opencv-python==4.5.4.58\n",
            "  Downloading opencv_python-4.5.4.58-cp39-cp39-manylinux_2_17_x86_64.manylinux2014_x86_64.whl (60.3 MB)\n",
            "\u001b[2K     \u001b[90m━━━━━━━━━━━━━━━━━━━━━━━━━━━━━━━━━━━━━━━━\u001b[0m \u001b[32m60.3/60.3 MB\u001b[0m \u001b[31m12.4 MB/s\u001b[0m eta \u001b[36m0:00:00\u001b[0m\n",
            "\u001b[?25hRequirement already satisfied: numpy>=1.19.3 in /usr/local/lib/python3.9/dist-packages (from opencv-python==4.5.4.58) (1.22.4)\n",
            "Installing collected packages: opencv-python\n",
            "  Attempting uninstall: opencv-python\n",
            "    Found existing installation: opencv-python 4.7.0.72\n",
            "    Uninstalling opencv-python-4.7.0.72:\n",
            "      Successfully uninstalled opencv-python-4.7.0.72\n",
            "Successfully installed opencv-python-4.5.4.58\n",
            "Looking in indexes: https://pypi.org/simple, https://us-python.pkg.dev/colab-wheels/public/simple/\n",
            "Collecting roboflow\n",
            "  Downloading roboflow-1.0.3-py3-none-any.whl (55 kB)\n",
            "\u001b[2K     \u001b[90m━━━━━━━━━━━━━━━━━━━━━━━━━━━━━━━━━━━━━━━\u001b[0m \u001b[32m55.8/55.8 kB\u001b[0m \u001b[31m263.6 kB/s\u001b[0m eta \u001b[36m0:00:00\u001b[0m\n",
            "\u001b[?25hRequirement already satisfied: tqdm>=4.41.0 in /usr/local/lib/python3.9/dist-packages (from roboflow) (4.65.0)\n",
            "Requirement already satisfied: python-dateutil in /usr/local/lib/python3.9/dist-packages (from roboflow) (2.8.2)\n",
            "Collecting idna==2.10\n",
            "  Downloading idna-2.10-py2.py3-none-any.whl (58 kB)\n",
            "\u001b[2K     \u001b[90m━━━━━━━━━━━━━━━━━━━━━━━━━━━━━━━━━━━━━━━━\u001b[0m \u001b[32m58.8/58.8 kB\u001b[0m \u001b[31m4.3 MB/s\u001b[0m eta \u001b[36m0:00:00\u001b[0m\n",
            "\u001b[?25hCollecting requests-toolbelt\n",
            "  Downloading requests_toolbelt-0.10.1-py2.py3-none-any.whl (54 kB)\n",
            "\u001b[2K     \u001b[90m━━━━━━━━━━━━━━━━━━━━━━━━━━━━━━━━━━━━━━━━\u001b[0m \u001b[32m54.5/54.5 kB\u001b[0m \u001b[31m6.6 MB/s\u001b[0m eta \u001b[36m0:00:00\u001b[0m\n",
            "\u001b[?25hCollecting cycler==0.10.0\n",
            "  Downloading cycler-0.10.0-py2.py3-none-any.whl (6.5 kB)\n",
            "Requirement already satisfied: certifi==2022.12.7 in /usr/local/lib/python3.9/dist-packages (from roboflow) (2022.12.7)\n",
            "Requirement already satisfied: six in /usr/local/lib/python3.9/dist-packages (from roboflow) (1.16.0)\n",
            "Requirement already satisfied: PyYAML>=5.3.1 in /usr/local/lib/python3.9/dist-packages (from roboflow) (6.0)\n",
            "Requirement already satisfied: urllib3>=1.26.6 in /usr/local/lib/python3.9/dist-packages (from roboflow) (1.26.15)\n",
            "Collecting wget\n",
            "  Downloading wget-3.2.zip (10 kB)\n",
            "  Preparing metadata (setup.py) ... \u001b[?25l\u001b[?25hdone\n",
            "Requirement already satisfied: numpy>=1.18.5 in /usr/local/lib/python3.9/dist-packages (from roboflow) (1.22.4)\n",
            "Collecting python-dotenv\n",
            "  Downloading python_dotenv-1.0.0-py3-none-any.whl (19 kB)\n",
            "Requirement already satisfied: chardet==4.0.0 in /usr/local/lib/python3.9/dist-packages (from roboflow) (4.0.0)\n",
            "Requirement already satisfied: requests in /usr/local/lib/python3.9/dist-packages (from roboflow) (2.27.1)\n",
            "Collecting pyparsing==2.4.7\n",
            "  Downloading pyparsing-2.4.7-py2.py3-none-any.whl (67 kB)\n",
            "\u001b[2K     \u001b[90m━━━━━━━━━━━━━━━━━━━━━━━━━━━━━━━━━━━━━━━━\u001b[0m \u001b[32m67.8/67.8 kB\u001b[0m \u001b[31m8.1 MB/s\u001b[0m eta \u001b[36m0:00:00\u001b[0m\n",
            "\u001b[?25hRequirement already satisfied: Pillow>=7.1.2 in /usr/local/lib/python3.9/dist-packages (from roboflow) (8.4.0)\n",
            "Requirement already satisfied: kiwisolver>=1.3.1 in /usr/local/lib/python3.9/dist-packages (from roboflow) (1.4.4)\n",
            "Requirement already satisfied: matplotlib in /usr/local/lib/python3.9/dist-packages (from roboflow) (3.7.1)\n",
            "Requirement already satisfied: opencv-python>=4.1.2 in /usr/local/lib/python3.9/dist-packages (from roboflow) (4.5.4.58)\n",
            "Requirement already satisfied: contourpy>=1.0.1 in /usr/local/lib/python3.9/dist-packages (from matplotlib->roboflow) (1.0.7)\n",
            "Requirement already satisfied: fonttools>=4.22.0 in /usr/local/lib/python3.9/dist-packages (from matplotlib->roboflow) (4.39.3)\n",
            "Requirement already satisfied: packaging>=20.0 in /usr/local/lib/python3.9/dist-packages (from matplotlib->roboflow) (23.0)\n",
            "Requirement already satisfied: importlib-resources>=3.2.0 in /usr/local/lib/python3.9/dist-packages (from matplotlib->roboflow) (5.12.0)\n",
            "Requirement already satisfied: charset-normalizer~=2.0.0 in /usr/local/lib/python3.9/dist-packages (from requests->roboflow) (2.0.12)\n",
            "Requirement already satisfied: zipp>=3.1.0 in /usr/local/lib/python3.9/dist-packages (from importlib-resources>=3.2.0->matplotlib->roboflow) (3.15.0)\n",
            "Building wheels for collected packages: wget\n",
            "  Building wheel for wget (setup.py) ... \u001b[?25l\u001b[?25hdone\n",
            "  Created wheel for wget: filename=wget-3.2-py3-none-any.whl size=9676 sha256=d67d635c9523b16ab8f05fb75d1fa18cda300110b48b13a936081bef97b4d659\n",
            "  Stored in directory: /root/.cache/pip/wheels/04/5f/3e/46cc37c5d698415694d83f607f833f83f0149e49b3af9d0f38\n",
            "Successfully built wget\n",
            "Installing collected packages: wget, python-dotenv, pyparsing, idna, cycler, requests-toolbelt, roboflow\n",
            "  Attempting uninstall: pyparsing\n",
            "    Found existing installation: pyparsing 3.0.9\n",
            "    Uninstalling pyparsing-3.0.9:\n",
            "      Successfully uninstalled pyparsing-3.0.9\n",
            "  Attempting uninstall: idna\n",
            "    Found existing installation: idna 3.4\n",
            "    Uninstalling idna-3.4:\n",
            "      Successfully uninstalled idna-3.4\n",
            "  Attempting uninstall: cycler\n",
            "    Found existing installation: cycler 0.11.0\n",
            "    Uninstalling cycler-0.11.0:\n",
            "      Successfully uninstalled cycler-0.11.0\n",
            "Successfully installed cycler-0.10.0 idna-2.10 pyparsing-2.4.7 python-dotenv-1.0.0 requests-toolbelt-0.10.1 roboflow-1.0.3 wget-3.2\n"
          ]
        },
        {
          "output_type": "display_data",
          "data": {
            "application/vnd.colab-display-data+json": {
              "pip_warning": {
                "packages": [
                  "cycler",
                  "pyparsing"
                ]
              }
            }
          },
          "metadata": {}
        }
      ]
    },
    {
      "cell_type": "code",
      "source": [
        "from roboflow import Roboflow\n",
        "\n",
        "# Initialize Roboflow API and download test set\n",
        "rf = Roboflow(api_key=\"wSbYaczzLzELee2lx4ed\")\n",
        "project = rf.workspace(\"crime-detection-zbmr9\").project(\"knifes-and-guns\")\n",
        "dataset = project.version(6).download(\"voc\")"
      ],
      "metadata": {
        "colab": {
          "base_uri": "https://localhost:8080/"
        },
        "id": "aRYzrUPbSFmU",
        "outputId": "d659a35c-c5a0-43cf-e7b4-447366ef0067"
      },
      "execution_count": 2,
      "outputs": [
        {
          "output_type": "stream",
          "name": "stdout",
          "text": [
            "loading Roboflow workspace...\n",
            "loading Roboflow project...\n",
            "Exporting format voc in progress : 85.0%\n",
            "Version export complete for voc format\n",
            "Downloading Dataset Version Zip in Knifes-and-guns-6 to voc: 99% [138100736 / 138403037] bytes"
          ]
        },
        {
          "output_type": "stream",
          "name": "stderr",
          "text": [
            "Extracting Dataset Version Zip to Knifes-and-guns-6 in voc:: 100%|██████████| 18253/18253 [00:04<00:00, 3834.63it/s]\n"
          ]
        }
      ]
    },
    {
      "cell_type": "code",
      "source": [
        "!mv -v Knifes-and-guns-6 Dataset"
      ],
      "metadata": {
        "colab": {
          "base_uri": "https://localhost:8080/"
        },
        "id": "xmF7OTalSNvE",
        "outputId": "5a8874b5-6ac5-4029-f4bc-c8325980180d"
      },
      "execution_count": 3,
      "outputs": [
        {
          "output_type": "stream",
          "name": "stdout",
          "text": [
            "renamed 'Knifes-and-guns-6' -> 'Dataset'\n"
          ]
        }
      ]
    },
    {
      "cell_type": "markdown",
      "source": [
        "## Class test"
      ],
      "metadata": {
        "id": "MDy6DBGHbmaG"
      }
    },
    {
      "cell_type": "code",
      "source": [
        "import cv2\n",
        "import numpy as np\n",
        "import pandas as pd\n",
        "import seaborn as sns\n",
        "import matplotlib.pyplot as plt\n",
        "import os\n",
        "import xml.etree.ElementTree as ET\n",
        "from sklearn.metrics import precision_recall_fscore_support, confusion_matrix, average_precision_score\n",
        "from roboflow import Roboflow\n",
        "from tqdm import tqdm\n",
        "from statistics import mean \n",
        "\n",
        "class Test_evaluation:\n",
        "    test_path = '/content/Dataset/test'\n",
        "    true_labels = []\n",
        "    predicted_labels = []\n",
        "\n",
        "    def __init__(self, model):\n",
        "        self.model = model\n",
        "\n",
        "    def evaluate(self, predict=None):\n",
        "        predict = predict or self.model.predict\n",
        "        for image_file in tqdm(os.listdir(self.test_path), desc='Testing model', total=len(os.listdir(self.test_path))):\n",
        "            image_path = os.path.join(self.test_path, image_file)\n",
        "            if image_file.endswith(\".jpg\"):\n",
        "                # Read image and annotations\n",
        "                annotation_file = os.path.join(self.test_path, f\"{image_file[:-4]}.xml\")\n",
        "                with open(annotation_file) as f:\n",
        "                    annotation_text = f.read()\n",
        "\n",
        "                # Make predictions and append labels to arrays\n",
        "                predictions = predict(image_path, confidence=40, overlap=30).json()['predictions']\n",
        "                predicted_classes = [prediction[\"class\"] for prediction in predictions]\n",
        "\n",
        "                true_classes = [obj.find('name').text for obj in ET.fromstring(annotation_text).findall('object')]\n",
        "                \n",
        "                if len(true_classes) < len(predicted_classes):\n",
        "                    true_classes += [''] * (len(predicted_classes) - len(true_classes))\n",
        "                else:\n",
        "                    predicted_classes += [''] * (len(true_classes) - len(predicted_classes))\n",
        "\n",
        "                self.true_labels.extend(true_classes)\n",
        "                self.predicted_labels.extend(predicted_classes)\n",
        "        \n",
        "        # Calculate evaluation metrics\n",
        "        self.precision, self.recall, self.f1_score, _ = precision_recall_fscore_support(self.true_labels, self.predicted_labels)\n",
        "        self.mAP = average_precision_score(pd.get_dummies(self.true_labels, drop_first=True).values, pd.get_dummies(self.predicted_labels, drop_first=True).values, average='macro')\n",
        "        self.confusion = confusion_matrix(self.true_labels, self.predicted_labels)\n",
        "\n",
        "    def plot_confusion_matrix(self):\n",
        "        # Plot confusion matrix as a heatmap\n",
        "        fig, ax = plt.subplots(figsize=(5, 4))\n",
        "        sns.heatmap(self.confusion, annot=True, fmt='d', cmap='Blues', cbar=False, xticklabels=['Nothing detected','pistols','knives'], yticklabels=['Nothing detected','pistols','knives'], ax=ax)\n",
        "        plt.xlabel(\"Predicted label\")\n",
        "        plt.ylabel(\"True label\")\n",
        "        plt.show()\n",
        "\n",
        "    def __str__(self):\n",
        "        metrics = pd.DataFrame({\n",
        "            \"Precision\": self.precision,\n",
        "            \"Recall\": self.recall,\n",
        "            \"F1-score\": self.f1_score,\n",
        "        }, index=['Nothing detected','pistols','knives'])\n",
        "\n",
        "        st = ''\n",
        "        st += str('-'*8) + 'Pandas table' + str('-'*8) + '\\n'\n",
        "        st += str(metrics.iloc[1:]) + '\\n'\n",
        "        st += '\\n'\n",
        "\n",
        "        st += str('-'*8) + 'Model metrics' + str('-'*8) + '\\n'\n",
        "        st += \"mAP: \" + str(self.mAP) + '\\n'\n",
        "        st += \"Precision: \" + str(mean(metrics['Precision'][1:])) + '\\n'\n",
        "        st += \"Recall: \" + str(mean(metrics['Recall'][1:])) + '\\n'\n",
        "        st += \"F1-score: \" + str(mean(metrics['F1-score'][1:])) + '\\n'\n",
        "        st += '\\n'\n",
        "\n",
        "        return st\n"
      ],
      "metadata": {
        "id": "DLGxtN1-bpb_"
      },
      "execution_count": 4,
      "outputs": []
    },
    {
      "cell_type": "markdown",
      "source": [
        "## Roboflow trained model"
      ],
      "metadata": {
        "id": "U8FPcrTiO8_T"
      }
    },
    {
      "cell_type": "code",
      "source": [
        "model = project.version(4).model\n",
        "test_model_1 = Test_evaluation(model)\n",
        "test_model_1.evaluate()\n",
        "print(test_model_1)\n",
        "test_model_1.plot_confusion_matrix()"
      ],
      "metadata": {
        "colab": {
          "base_uri": "https://localhost:8080/",
          "height": 623
        },
        "id": "DrVPdnjLedpx",
        "outputId": "4becbc94-7846-4e3e-d714-c539d53fbac2"
      },
      "execution_count": 5,
      "outputs": [
        {
          "output_type": "stream",
          "name": "stderr",
          "text": [
            "Testing model: 100%|██████████| 1830/1830 [02:50<00:00, 10.76it/s]"
          ]
        },
        {
          "output_type": "stream",
          "name": "stdout",
          "text": [
            "--------Pandas table--------\n",
            "         Precision    Recall  F1-score\n",
            "pistols   0.984668  0.887865  0.933764\n",
            "knives    0.967153  0.807927  0.880399\n",
            "\n",
            "--------Model metrics--------\n",
            "mAP: 0.8960935879308772\n",
            "Precision: 0.9759105435282707\n",
            "Recall: 0.8478958263084935\n",
            "F1-score: 0.907081403399546\n",
            "\n",
            "\n"
          ]
        },
        {
          "output_type": "stream",
          "name": "stderr",
          "text": [
            "\n"
          ]
        },
        {
          "output_type": "display_data",
          "data": {
            "text/plain": [
              "<Figure size 500x400 with 1 Axes>"
            ],
            "image/png": "[encoded data removed]"
          },
          "metadata": {}
        }
      ]
    }
  ]
}